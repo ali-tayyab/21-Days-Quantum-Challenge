{
 "cells": [
  {
   "cell_type": "markdown",
   "id": "94939743",
   "metadata": {},
   "source": [
    "### **Quantum Mechanics Basics (Postulates of QM, Schrödinger Equation, Measurement)**\n",
    "\n",
    "Quantum mechanics is built on a small set of fundamental postulates that define the behavior of quantum systems. These postulates are the foundation of quantum computing because every gate, circuit, and algorithm is just an application of them. In short:\n",
    "\n",
    "1. **State Postulate**: A quantum system is fully described by a state vector (ket) in a complex Hilbert space. For a qubit, this is |ψ⟩ = α|0⟩ + β|1⟩.  \n",
    "2. **Evolution Postulate**: The time evolution of a quantum state is governed by the Schrödinger equation. In discrete terms, this means states evolve via unitary operators.  \n",
    "3. **Measurement Postulate**: Measurements are described by a set of operators {Mᵢ}. The probability of outcome i is p(i) = ⟨ψ|Mᵢ†Mᵢ|ψ⟩, and the post-measurement state collapses accordingly.  \n",
    "4. **Composite Systems Postulate**: The state space of a composite system is the tensor product of its subsystems. This allows entanglement.  \n",
    "\n",
    "These rules look abstract, but they explain everything from superposition to entanglement to quantum circuits.\n"
   ]
  },
  {
   "cell_type": "markdown",
   "id": "6801c82d",
   "metadata": {},
   "source": [
    "#### **Postulate 1: Quantum States**\n",
    "\n",
    "A single qubit lives in a two-dimensional Hilbert space, spanned by basis states |0⟩ and |1⟩. A general state is a normalized linear combination |ψ⟩ = α|0⟩ + β|1⟩ where |α|² + |β|² = 1. This captures the probabilistic nature of quantum systems. For multiple qubits, the state space grows exponentially: n qubits → 2ⁿ basis states."
   ]
  },
  {
   "cell_type": "code",
   "execution_count": 22,
   "id": "a04bd0b2",
   "metadata": {},
   "outputs": [],
   "source": [
    "import numpy as np\n",
    "from numpy import kron\n",
    "import qiskit\n",
    "from qiskit import QuantumCircuit, transpile, ClassicalRegister, QuantumRegister\n",
    "from qiskit.visualization import plot_histogram,plot_distribution\n",
    "from qiskit.transpiler import generate_preset_pass_manager\n",
    "from qiskit_ibm_runtime import SamplerV2 as Sampler, QiskitRuntimeService\n",
    "from qiskit_aer import Aer, AerSimulator\n",
    "import pylatexenc\n",
    "import matplotlib.pyplot as plt"
   ]
  },
  {
   "cell_type": "code",
   "execution_count": 4,
   "id": "5cb44d2d",
   "metadata": {},
   "outputs": [
    {
     "name": "stdout",
     "output_type": "stream",
     "text": [
      "State |ψ⟩ =\n",
      " [[0.57735027]\n",
      " [0.81649658]]\n",
      "Norm check = 1.0\n"
     ]
    }
   ],
   "source": [
    "# Define basis states\n",
    "zero = np.array([[1],[0]])\n",
    "one  = np.array([[0],[1]])\n",
    "\n",
    "# Define a general qubit state\n",
    "alpha, beta = 1/np.sqrt(3), np.sqrt(2/3)\n",
    "psi = alpha * zero + beta * one\n",
    "\n",
    "print(\"State |ψ⟩ =\\n\", psi)\n",
    "print(\"Norm check =\", np.linalg.norm(psi))\n"
   ]
  },
  {
   "cell_type": "markdown",
   "id": "dfff5a9f",
   "metadata": {},
   "source": [
    "#### **Postulate 2: Schrödinger Equation and Unitary Evolution**\n",
    "\n",
    "The continuous-time evolution of a closed quantum system is described by the Schrödinger equation:\n",
    "\n",
    "$$ i \\hbar \\frac{d}{dt} |\\psi(t)⟩ = H |\\psi(t)⟩ $$\n",
    "\n",
    "where H is the Hamiltonian of the system. Its solution is:\n",
    "\n",
    "$$ |\\psi(t)⟩ = e^{-iHt/\\hbar} |\\psi(0)⟩ $$\n",
    "\n",
    "In quantum computing, this is discretized as unitary matrices (quantum gates). Every quantum gate corresponds to some Hamiltonian evolution over a specific time. For example, the Pauli-X gate corresponds to evolution under the Hamiltonian σₓ.\n"
   ]
  },
  {
   "cell_type": "code",
   "execution_count": 29,
   "id": "7381c8ce",
   "metadata": {},
   "outputs": [
    {
     "name": "stdout",
     "output_type": "stream",
     "text": [
      "Initial state |ψ(0)⟩ =\n",
      " [[0.70710678]\n",
      " [0.70710678]]\n",
      "\n",
      "Evolved state |ψ(t)⟩ =\n",
      " [[1.20710678-0.5j]\n",
      " [1.20710678+0.5j]]\n"
     ]
    }
   ],
   "source": [
    "# Example: Time evolution under a simple Hamiltonian (Pauli-Z)\n",
    "sigma_z = np.array([[1,0],[0,-1]])\n",
    "H = sigma_z\n",
    "t = np.pi/4\n",
    "U = np.exp(-1j * H * t)  # exp(-iHt)\n",
    "\n",
    "psi0 = (zero + one) / np.sqrt(2)   # |+⟩ state\n",
    "psi_t = U @ psi0\n",
    "\n",
    "print(\"Initial state |ψ(0)⟩ =\\n\", psi0)\n",
    "print(\"\\nEvolved state |ψ(t)⟩ =\\n\", psi_t)"
   ]
  },
  {
   "cell_type": "markdown",
   "id": "ae833134",
   "metadata": {},
   "source": [
    "Now, let’s see the same idea in **Qiskit**. If we apply the Pauli-Z operator to the |+⟩ state, it adds a relative phase, which is equivalent to Schrödinger evolution under the σₓ Hamiltonian.\n"
   ]
  },
  {
   "cell_type": "code",
   "execution_count": 27,
   "id": "dc3c8139",
   "metadata": {},
   "outputs": [
    {
     "data": {
      "image/png": "[encoded data removed]",
      "text/plain": [
       "<Figure size 352.675x200.667 with 1 Axes>"
      ]
     },
     "execution_count": 27,
     "metadata": {},
     "output_type": "execute_result"
    }
   ],
   "source": [
    "qreg = QuantumRegister(1, name = 'q')\n",
    "creg = ClassicalRegister(1,name = 'c')\n",
    "qc = QuantumCircuit(qreg,creg)\n",
    "qc.h(0)      # prepare |+⟩\n",
    "qc.z(0)      # evolve under Z\n",
    "qc.measure(0,0)\n",
    "qc.draw(\"mpl\")"
   ]
  },
  {
   "cell_type": "code",
   "execution_count": 28,
   "id": "372f578e",
   "metadata": {},
   "outputs": [
    {
     "name": "stdout",
     "output_type": "stream",
     "text": [
      "Raw Counts: {'0': 10035, '1': 9965}\n"
     ]
    },
    {
     "data": {
      "image/png": "[encoded data removed]",
      "text/plain": [
       "<Figure size 700x500 with 1 Axes>"
      ]
     },
     "execution_count": 28,
     "metadata": {},
     "output_type": "execute_result"
    }
   ],
   "source": [
    "# Step 1: Simulate using Sampler and AerSimulator\n",
    "backend = AerSimulator()\n",
    "pass_manager = generate_preset_pass_manager(backend=backend, optimization_level=3)\n",
    "qc_transpiled = pass_manager.run(qc)\n",
    "\n",
    "sampler = Sampler(mode=backend)\n",
    "job_result = sampler.run([qc_transpiled], shots=20000).result()\n",
    "\n",
    "# Extract measurement counts from result\n",
    "counts = job_result[0].data.c.get_counts()\n",
    "# Note: The exact access pattern may vary with Qiskit version;\n",
    "# sometimes it's .data.c or .data.meas — adjust accordingly based on your transpiled circuit.\n",
    "\n",
    "print(\"Raw Counts:\", counts)\n",
    "plot_distribution(counts)\n"
   ]
  },
  {
   "cell_type": "markdown",
   "id": "59539988",
   "metadata": {},
   "source": [
    "#### **Postulate 3: Measurement**\n",
    "\n",
    "Measurement is the bridge between the quantum and classical worlds. Measuring |ψ⟩ = α|0⟩ + β|1⟩ in the computational basis yields 0 with probability |α|² and 1 with probability |β|². After measurement, the state collapses to the outcome observed. This probabilistic collapse is unique to quantum mechanics."
   ]
  },
  {
   "cell_type": "code",
   "execution_count": 12,
   "id": "7ff35975",
   "metadata": {},
   "outputs": [
    {
     "name": "stdout",
     "output_type": "stream",
     "text": [
      "Prob(0) = [[0.36]]\n",
      "Prob(1) = [[0.64]]\n"
     ]
    }
   ],
   "source": [
    "# Simulate probabilities directly\n",
    "alpha, beta = 0.6, 0.8j\n",
    "psi = np.array([[alpha],[beta]])\n",
    "psi = psi / np.linalg.norm(psi)\n",
    "\n",
    "p0 = np.abs(zero.T.conj() @ psi)**2\n",
    "p1 = np.abs(one.T.conj() @ psi)**2\n",
    "\n",
    "print(\"Prob(0) =\", p0)\n",
    "print(\"Prob(1) =\", p1)"
   ]
  },
  {
   "cell_type": "markdown",
   "id": "8b6fcb18",
   "metadata": {},
   "source": [
    "#### **Measurement in Qiskit**\n",
    "Let’s prepare a state √(3/4)|0⟩ + √(1/4)|1⟩ and measure it 1000 times to verify the probability distribution matches theory.\n"
   ]
  },
  {
   "cell_type": "code",
   "execution_count": 20,
   "id": "2d7a1f63",
   "metadata": {},
   "outputs": [
    {
     "data": {
      "image/png": "[encoded data removed]",
      "text/plain": [
       "<Figure size 352.675x200.667 with 1 Axes>"
      ]
     },
     "execution_count": 20,
     "metadata": {},
     "output_type": "execute_result"
    }
   ],
   "source": [
    "qreg = QuantumRegister(1, name=\"q\")\n",
    "creg = ClassicalRegister(1, name=\"c\")\n",
    "qc = QuantumCircuit(qreg,creg)\n",
    "qc.initialize([np.sqrt(3/4), np.sqrt(1/4)], 0)\n",
    "qc.measure(0,0)\n",
    "qc.draw(\"mpl\")"
   ]
  },
  {
   "cell_type": "code",
   "execution_count": 24,
   "id": "8babe15a",
   "metadata": {},
   "outputs": [
    {
     "name": "stdout",
     "output_type": "stream",
     "text": [
      "Raw Counts: {'0': 14992, '1': 5008}\n"
     ]
    },
    {
     "data": {
      "image/png": "[encoded data removed]",
      "text/plain": [
       "<Figure size 700x500 with 1 Axes>"
      ]
     },
     "execution_count": 24,
     "metadata": {},
     "output_type": "execute_result"
    }
   ],
   "source": [
    "# Step 1: Simulate using Sampler and AerSimulator\n",
    "backend = AerSimulator()\n",
    "pass_manager = generate_preset_pass_manager(backend=backend, optimization_level=3)\n",
    "qc_transpiled = pass_manager.run(qc)\n",
    "\n",
    "sampler = Sampler(mode=backend)\n",
    "job_result = sampler.run([qc_transpiled], shots=20000).result()\n",
    "\n",
    "# Extract measurement counts from result\n",
    "counts = job_result[0].data.c.get_counts()\n",
    "# Note: The exact access pattern may vary with Qiskit version;\n",
    "# sometimes it's .data.c or .data.meas — adjust accordingly based on your transpiled circuit.\n",
    "\n",
    "print(\"Raw Counts:\", counts)\n",
    "plot_distribution(counts)"
   ]
  },
  {
   "cell_type": "markdown",
   "id": "64abf4b8",
   "metadata": {},
   "source": [
    "#### **Postulate 4: Composite Systems**\n",
    "\n",
    "If one system is in state |ψ⟩ and another in |ϕ⟩, the combined system is |ψ⟩⊗|ϕ⟩. This tensor product structure leads to entanglement, where the state cannot be factored into individual subsystems. For example, the Bell state |Φ+⟩ = (|00⟩ + |11⟩)/√2 cannot be written as |ψ⟩⊗|ϕ⟩.\n"
   ]
  },
  {
   "cell_type": "code",
   "execution_count": 15,
   "id": "e588ec10",
   "metadata": {},
   "outputs": [
    {
     "name": "stdout",
     "output_type": "stream",
     "text": [
      "|Φ+⟩ =\n",
      " [[0.70710678]\n",
      " [0.        ]\n",
      " [0.        ]\n",
      " [0.70710678]]\n"
     ]
    }
   ],
   "source": [
    "# Construct Bell state manually\n",
    "bell = (kron(zero, zero) + kron(one, one)) / np.sqrt(2)\n",
    "print(\"|Φ+⟩ =\\n\", bell)"
   ]
  },
  {
   "cell_type": "markdown",
   "id": "cd48bb05",
   "metadata": {},
   "source": [
    "#### **Bell State in Qiskit**\n",
    "We can also create this state using quantum gates.\n"
   ]
  },
  {
   "cell_type": "code",
   "execution_count": 34,
   "id": "e2d0a71f",
   "metadata": {},
   "outputs": [
    {
     "data": {
      "image/png": "[encoded data removed]",
      "text/plain": [
       "<Figure size 454.517x284.278 with 1 Axes>"
      ]
     },
     "execution_count": 34,
     "metadata": {},
     "output_type": "execute_result"
    }
   ],
   "source": [
    "qreg = QuantumRegister(2, name = 'q')\n",
    "creg = ClassicalRegister(2, name = 'c')\n",
    "qc = QuantumCircuit(2,2)\n",
    "qc.h(0)\n",
    "qc.cx(0,1)\n",
    "qc.measure([0,1],[0,1])\n",
    "qc.draw(\"mpl\")\n"
   ]
  },
  {
   "cell_type": "code",
   "execution_count": 35,
   "id": "4e0de0d0",
   "metadata": {},
   "outputs": [
    {
     "name": "stdout",
     "output_type": "stream",
     "text": [
      "Raw Counts: {'00': 10206, '11': 9794}\n"
     ]
    },
    {
     "data": {
      "image/png": "[encoded data removed]",
      "text/plain": [
       "<Figure size 700x500 with 1 Axes>"
      ]
     },
     "execution_count": 35,
     "metadata": {},
     "output_type": "execute_result"
    }
   ],
   "source": [
    "# Step 1: Simulate using Sampler and AerSimulator\n",
    "backend = AerSimulator()\n",
    "pass_manager = generate_preset_pass_manager(backend=backend, optimization_level=3)\n",
    "qc_transpiled = pass_manager.run(qc)\n",
    "\n",
    "sampler = Sampler(mode=backend)\n",
    "job_result = sampler.run([qc_transpiled], shots=20000).result()\n",
    "\n",
    "# Extract measurement counts from result\n",
    "counts = job_result[0].data.c.get_counts()\n",
    "# Note: The exact access pattern may vary with Qiskit version;\n",
    "# sometimes it's .data.c or .data.meas — adjust accordingly based on your transpiled circuit.\n",
    "\n",
    "print(\"Raw Counts:\", counts)\n",
    "plot_distribution(counts)\n"
   ]
  },
  {
   "cell_type": "markdown",
   "id": "3dbaf612",
   "metadata": {},
   "source": [
    "### **Key Takeaways**\n",
    "\n",
    "- **Quantum states** are vectors in complex Hilbert spaces.  \n",
    "- **Time evolution** follows the Schrödinger equation, discretized as unitary gates in quantum computing.  \n",
    "- **Measurements** yield probabilistic outcomes and collapse the state, linking quantum to classical.  \n",
    "- **Composite systems** use tensor products, enabling entanglement, a uniquely quantum resource.  \n",
    "- These postulates are not just theory: they map directly to circuits, gates, and measurement outcomes in Qiskit.  "
   ]
  },
  {
   "cell_type": "code",
   "execution_count": null,
   "id": "5a98544f",
   "metadata": {},
   "outputs": [],
   "source": []
  }
 ],
 "metadata": {
  "kernelspec": {
   "display_name": "cwq",
   "language": "python",
   "name": "python3"
  },
  "language_info": {
   "codemirror_mode": {
    "name": "ipython",
    "version": 3
   },
   "file_extension": ".py",
   "mimetype": "text/x-python",
   "name": "python",
   "nbconvert_exporter": "python",
   "pygments_lexer": "ipython3",
   "version": "3.13.5"
  }
 },
 "nbformat": 4,
 "nbformat_minor": 5
}
