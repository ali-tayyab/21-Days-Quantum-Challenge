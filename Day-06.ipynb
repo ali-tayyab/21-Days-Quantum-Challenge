{
 "cells": [
  {
   "cell_type": "markdown",
   "id": "85e04ab6",
   "metadata": {},
   "source": [
    "### **Dirac Notation and Hilbert Spaces (Bra–ket Notation, Operations, Basis States)**\n",
    "\n",
    "Dirac notation, introduced by Paul Dirac, is the standard way to describe states and operations in quantum mechanics. A quantum state is written as a **ket** `|ψ⟩`, which corresponds to a column vector, while its dual, the **bra** `⟨ψ|`, corresponds to the conjugate transpose (row vector). Together, these notations make complex linear algebra operations compact and intuitive: inner products become `⟨ϕ|ψ⟩`, outer products become `|ψ⟩⟨ϕ|`, and operators act naturally on kets as `A|ψ⟩`.  \n",
    "\n",
    "A *Hilbert space* is a complete vector space with an inner product, which provides the stage for quantum mechanics. Each qubit is represented in a 2-dimensional Hilbert space with basis states `|0⟩ = [1,0]ᵀ` and `|1⟩ = [0,1]ᵀ`. For multi-qubit systems, the Hilbert space grows as a tensor product of these smaller spaces, meaning that n qubits span a space of dimension 2ⁿ. This framework allows us to represent not only classical states like `|00...0⟩` but also quantum superpositions and entangled states. Dirac notation abstracts away the messy linear algebra into an elegant symbolic language.\n",
    "\n",
    "#### **Basis States in Dirac Notation**\n",
    "\n",
    "The standard basis for a single qubit Hilbert space consists of |0⟩ and |1⟩, which correspond to the classical bit values 0 and 1 but are represented as vectors. Any qubit state can be written as a linear combination (superposition) of these basis states, such as `|ψ⟩ = α|0⟩ + β|1⟩` with |α|² + |β|² = 1. Let’s define these states in Python.\n",
    "\n"
   ]
  },
  {
   "cell_type": "code",
   "execution_count": 2,
   "id": "fba4d169",
   "metadata": {},
   "outputs": [
    {
     "name": "stdout",
     "output_type": "stream",
     "text": [
      "|0⟩ =\n",
      " [[1]\n",
      " [0]]\n",
      "|1⟩ =\n",
      " [[0]\n",
      " [1]]\n"
     ]
    }
   ],
   "source": [
    "import numpy as np\n",
    "\n",
    "# Basis states\n",
    "zero = np.array([[1],[0]])  # |0⟩\n",
    "one = np.array([[0],[1]])   # |1⟩\n",
    "\n",
    "print(\"|0⟩ =\\n\", zero)\n",
    "print(\"|1⟩ =\\n\", one)\n"
   ]
  },
  {
   "cell_type": "markdown",
   "id": "5819b795",
   "metadata": {},
   "source": [
    "### **Inner and Outer Products in Dirac Notation**\n",
    "\n",
    "In Dirac notation, the **inner product** ⟨ϕ|ψ⟩ is a complex number that measures the overlap between two states, while the **outer product** |ψ⟩⟨ϕ| is an operator that maps one state into another. This is extremely compact compared to matrix–vector multiplication in standard linear algebra. In code, the inner product corresponds to a conjugate transpose dot product, and the outer product to a matrix built from one column and one row vector.\n"
   ]
  },
  {
   "cell_type": "code",
   "execution_count": 3,
   "id": "723b0a40",
   "metadata": {},
   "outputs": [
    {
     "name": "stdout",
     "output_type": "stream",
     "text": [
      "⟨0|+⟩ = [[0.70710678]]\n",
      "\n",
      "|+⟩⟨0| =\n",
      " [[0.70710678 0.        ]\n",
      " [0.70710678 0.        ]]\n"
     ]
    }
   ],
   "source": [
    "# Define a superposition state |+⟩ = (|0⟩ + |1⟩)/√2\n",
    "plus = (zero + one) / np.sqrt(2)\n",
    "\n",
    "# Inner product ⟨0|+⟩\n",
    "inner = zero.T.conj() @ plus\n",
    "print(\"⟨0|+⟩ =\", inner)\n",
    "\n",
    "# Outer product |+⟩⟨0|\n",
    "outer = plus @ zero.T.conj()\n",
    "print(\"\\n|+⟩⟨0| =\\n\", outer)\n"
   ]
  },
  {
   "cell_type": "markdown",
   "id": "521c9d68",
   "metadata": {},
   "source": [
    "### **Hilbert Spaces and Multi-Qubit Systems**\n",
    "\n",
    "The Hilbert space for multiple qubits is formed via tensor products. For example, the two-qubit basis consists of four states: |00⟩, |01⟩, |10⟩, and |11⟩. A general two-qubit state is a linear combination of these four basis vectors. This exponential growth of Hilbert space dimension is what makes quantum computing powerful but also computationally demanding for classical simulation. In practice, we use NumPy’s `kron` function to build these spaces.\n"
   ]
  },
  {
   "cell_type": "code",
   "execution_count": 4,
   "id": "53511ac4",
   "metadata": {},
   "outputs": [
    {
     "name": "stdout",
     "output_type": "stream",
     "text": [
      "|00⟩ =\n",
      " [[1]\n",
      " [0]\n",
      " [0]\n",
      " [0]]\n",
      "|01⟩ =\n",
      " [[0]\n",
      " [1]\n",
      " [0]\n",
      " [0]]\n"
     ]
    }
   ],
   "source": [
    "# Two-qubit basis states\n",
    "zero_zero = np.kron(zero, zero)  # |00⟩\n",
    "zero_one = np.kron(zero, one)    # |01⟩\n",
    "\n",
    "print(\"|00⟩ =\\n\", zero_zero)\n",
    "print(\"|01⟩ =\\n\", zero_one)\n"
   ]
  },
  {
   "cell_type": "markdown",
   "id": "85fcbc58",
   "metadata": {},
   "source": [
    "### **Operators in Dirac Notation**\n",
    "In Dirac notation, operators are written as matrices that act on kets. For example, the Pauli-X gate flips |0⟩ to |1⟩, written as X|0⟩ = |1⟩. In Hilbert space terms, operators preserve the structure of the space while transforming states. Importantly, quantum operators are unitary, so they preserve the norm of the states.\n"
   ]
  },
  {
   "cell_type": "code",
   "execution_count": 6,
   "id": "959be977",
   "metadata": {},
   "outputs": [
    {
     "name": "stdout",
     "output_type": "stream",
     "text": [
      "X|0⟩ =\n",
      " [[0]\n",
      " [1]]\n"
     ]
    }
   ],
   "source": [
    "# Pauli-X operator\n",
    "X = np.array([[0,1],[1,0]])\n",
    "\n",
    "# Apply X to |0⟩\n",
    "result = X @ zero\n",
    "print(\"X|0⟩ =\\n\", result)\n"
   ]
  },
  {
   "cell_type": "markdown",
   "id": "60ebb5bf",
   "metadata": {},
   "source": [
    "### **Key Takeaways**\n",
    "\n",
    "- **Dirac notation** provides a compact and elegant way to express quantum states and operations.  \n",
    "- **Kets |ψ⟩** represent column vectors (states), while *bras ⟨ψ|* represent row vectors (conjugate transpose).  \n",
    "- **Inner products ⟨ϕ|ψ⟩** give overlaps (probability amplitudes), while *outer products |ψ⟩⟨ϕ|* form operators and projectors.  \n",
    "- **Hilbert spaces** are complete vector spaces with inner products, serving as the mathematical stage for quantum mechanics.  \n",
    "- **Basis states** like |0⟩ and |1⟩ span the qubit space; multi-qubit systems grow exponentially as tensor products of basis states.  \n",
    "- **Operators** in Dirac notation act naturally on kets, and unitary operators preserve normalization and represent valid quantum gates.  \n"
   ]
  },
  {
   "cell_type": "markdown",
   "id": "6637995f",
   "metadata": {},
   "source": []
  }
 ],
 "metadata": {
  "kernelspec": {
   "display_name": "cwq",
   "language": "python",
   "name": "python3"
  },
  "language_info": {
   "codemirror_mode": {
    "name": "ipython",
    "version": 3
   },
   "file_extension": ".py",
   "mimetype": "text/x-python",
   "name": "python",
   "nbconvert_exporter": "python",
   "pygments_lexer": "ipython3",
   "version": "3.13.5"
  }
 },
 "nbformat": 4,
 "nbformat_minor": 5
}
