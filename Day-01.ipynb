{
 "cells": [
  {
   "cell_type": "markdown",
   "id": "8d492427",
   "metadata": {},
   "source": [
    "### **Complex Numbers and Linear Algebra Basics**\n",
    "Complex numbers form the foundation of quantum mechanics because quantum states are represented as vectors with complex entries, and operations on these states are described by complex matrices. A complex number has the form `a + bi` where `i² = -1`. Extending this idea, vectors and matrices can also contain complex entries, and linear algebra provides the language to describe quantum states and their evolution. Two particularly important concepts are **eigenvalues** and **eigenvectors**, as they reveal invariant directions under linear transformations and play a fundamental role in measurement and dynamics in quantum systems.\n",
    "\n",
    "#### **Complex Numbers in Python**\n",
    "\n",
    "We can represent complex numbers in Python directly using the `complex` type or with NumPy arrays. We can compute their magnitude, conjugate, and phase, which are essential when describing probability amplitudes in quantum states."
   ]
  },
  {
   "cell_type": "code",
   "execution_count": 2,
   "id": "1b418b30",
   "metadata": {},
   "outputs": [
    {
     "name": "stdout",
     "output_type": "stream",
     "text": [
      "z1: (3+4j)\n",
      "z2: (1-2j)\n",
      "Addition: (4+2j)\n",
      "Multiplication: (11-2j)\n",
      "Magnitude of z1: 5.0\n",
      "Conjugate of z1: (3-4j)\n",
      "Phase of z1 (radians): 0.9272952180016122\n"
     ]
    }
   ],
   "source": [
    "import numpy as np\n",
    "# Defining complex numbers\n",
    "z1 = 3 + 4j\n",
    "z2 = 1 - 2j\n",
    "\n",
    "# Basic operations\n",
    "print(\"z1:\", z1)\n",
    "print(\"z2:\", z2)\n",
    "print(\"Addition:\", z1 + z2)\n",
    "print(\"Multiplication:\", z1 * z2)\n",
    "\n",
    "# Magnitude and conjugate\n",
    "print(\"Magnitude of z1:\", abs(z1))\n",
    "print(\"Conjugate of z1:\", np.conjugate(z1))\n",
    "print(\"Phase of z1 (radians):\", np.angle(z1))"
   ]
  },
  {
   "cell_type": "markdown",
   "id": "f0cf2f80",
   "metadata": {},
   "source": [
    "### **Vectors and Matrices**\n",
    "\n",
    "A vector can be thought of as a column of numbers, and in quantum computing it is used to represent states (kets). A matrix describes transformations or operators. Multiplication of matrices with vectors represents the action of an operator on a state. In NumPy, vectors and matrices are arrays, and their operations like addition, dot product, and matrix multiplication can be directly computed.\n"
   ]
  },
  {
   "cell_type": "code",
   "execution_count": 3,
   "id": "f3d2235c",
   "metadata": {},
   "outputs": [
    {
     "name": "stdout",
     "output_type": "stream",
     "text": [
      "Vector v: [1 2 3]\n",
      "Norm of v: 3.7416573867739413\n",
      "Dot product of v with itself: 14\n",
      "Matrix M:\n",
      " [[ 1  2  0]\n",
      " [ 0 -1  3]\n",
      " [ 4  0  2]]\n",
      "Matrix-Vector product: [ 5  7 10]\n",
      "Matrix squared:\n",
      " [[ 1  0  6]\n",
      " [12  1  3]\n",
      " [12  8  4]]\n"
     ]
    }
   ],
   "source": [
    "# Defining vectors and matrices\n",
    "v = np.array([1, 2, 3])\n",
    "M = np.array([[1, 2, 0],\n",
    "              [0, -1, 3],\n",
    "              [4, 0, 2]])\n",
    "\n",
    "# Vector operations\n",
    "print(\"Vector v:\", v)\n",
    "print(\"Norm of v:\", np.linalg.norm(v))\n",
    "print(\"Dot product of v with itself:\", np.dot(v, v))\n",
    "\n",
    "# Matrix operations\n",
    "print(\"Matrix M:\\n\", M)\n",
    "print(\"Matrix-Vector product:\", M @ v)\n",
    "print(\"Matrix squared:\\n\", M @ M)\n"
   ]
  },
  {
   "cell_type": "markdown",
   "id": "2b0071ea",
   "metadata": {},
   "source": [
    "### **Eigenvalues and Eigenvectors**\n",
    "\n",
    "For a square matrix `A`, an eigenvector is a non-zero vector `v` such that `A v = λ v`, where `λ` is the corresponding eigenvalue. In quantum mechanics, eigenvalues often represent measurable quantities (like energy), and eigenvectors represent the states in which the system has a definite value of that quantity. Computing eigenvalues and eigenvectors reveals deep insights into the behavior of linear operators.\n"
   ]
  },
  {
   "cell_type": "code",
   "execution_count": 4,
   "id": "f0c1ec3d",
   "metadata": {},
   "outputs": [
    {
     "name": "stdout",
     "output_type": "stream",
     "text": [
      "Eigenvalues: [ 3.79290291+0.j        -0.89645145+2.2353258j -0.89645145-2.2353258j]\n",
      "Eigenvectors:\n",
      " [[-0.35516592+0.j         -0.31041348-0.36588084j -0.31041348+0.36588084j]\n",
      " [-0.49597197+0.j          0.70327348+0.j          0.70327348-0.j        ]\n",
      " [-0.79238183+0.j          0.02427432+0.52401512j  0.02427432-0.52401512j]]\n",
      "\n",
      "Check for first eigenpair:\n",
      "M v = [-1.34710987+0.j -1.88117353+0.j -3.00542736+0.j]\n",
      "λ v = [-1.34710987+0.j -1.88117353+0.j -3.00542736+0.j]\n"
     ]
    }
   ],
   "source": [
    "# Eigenvalue and eigenvector computation\n",
    "eigvals, eigvecs = np.linalg.eig(M)\n",
    "\n",
    "print(\"Eigenvalues:\", eigvals)\n",
    "print(\"Eigenvectors:\\n\", eigvecs)\n",
    "\n",
    "# Verify one eigenpair\n",
    "idx = 0\n",
    "lhs = M @ eigvecs[:, idx]\n",
    "rhs = eigvals[idx] * eigvecs[:, idx]\n",
    "print(\"\\nCheck for first eigenpair:\")\n",
    "print(\"M v =\", lhs)\n",
    "print(\"λ v =\", rhs)"
   ]
  },
  {
   "cell_type": "markdown",
   "id": "1fce10de",
   "metadata": {},
   "source": [
    "### **Key Takeaways**\n",
    "\n",
    "Complex numbers extend the real number system and are essential in describing amplitudes in quantum states. Vectors and matrices provide the structure for states and operators, enabling us to compute transformations and probabilities. Eigenvalues and eigenvectors are especially powerful in quantum theory, since they describe measurable quantities and invariant states. Mastering these tools is crucial before advancing to tensor products, unitary matrices, and other advanced quantum concepts.\n"
   ]
  },
  {
   "cell_type": "code",
   "execution_count": null,
   "id": "605087c7",
   "metadata": {},
   "outputs": [],
   "source": []
  }
 ],
 "metadata": {
  "kernelspec": {
   "display_name": "cwq",
   "language": "python",
   "name": "python3"
  },
  "language_info": {
   "codemirror_mode": {
    "name": "ipython",
    "version": 3
   },
   "file_extension": ".py",
   "mimetype": "text/x-python",
   "name": "python",
   "nbconvert_exporter": "python",
   "pygments_lexer": "ipython3",
   "version": "3.13.5"
  }
 },
 "nbformat": 4,
 "nbformat_minor": 5
}
