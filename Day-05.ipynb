{
 "cells": [
  {
   "cell_type": "markdown",
   "id": "93039d51",
   "metadata": {},
   "source": [
    "### **Linear Algebra for Quantum Computing (Tensor Product, Inner/Outer Product, Unitary Matrices)**\n",
    "\n",
    "Linear algebra is the backbone of quantum computing because quantum states are represented by vectors and operations are represented by matrices. The **inner product** measures the overlap between two states, while the **outer product** generates operators and projectors. The **tensor product** allows us to combine multiple qubits into larger systems, exponentially increasing the dimension of the state space. Finally, **unitary matrices** represent valid quantum gates since they preserve norm and ensure probabilities remain normalized. Mastering these concepts provides the mathematical intuition for why quantum computing has exponentially more expressive power than classical computing.\n",
    "\n",
    "#### **Inner and Outer Products**\n",
    "\n",
    "The inner product (dot product) between two vectors gives a scalar that measures their similarity, while the outer product produces a matrix that projects one vector onto another. In quantum computing, the inner product ⟨ψ|ϕ⟩ tells us the overlap (or probability amplitude) between states, and the outer product |ψ⟩⟨ψ| defines a projector that represents measurement operators.\n",
    "\n"
   ]
  },
  {
   "cell_type": "code",
   "execution_count": 1,
   "id": "41522703",
   "metadata": {},
   "outputs": [
    {
     "name": "stdout",
     "output_type": "stream",
     "text": [
      "Inner product ⟨ψ|ϕ⟩ = 0.7071067811865475\n",
      "\n",
      "Outer product |ψ⟩⟨ϕ|:\n",
      " [[0.70710678 0.        ]\n",
      " [0.70710678 0.        ]]\n"
     ]
    }
   ],
   "source": [
    "import numpy as np\n",
    "# Define two quantum states (normalized vectors)\n",
    "psi = np.array([1/np.sqrt(2), 1/np.sqrt(2)])   # |+>\n",
    "phi = np.array([1, 0])                         # |0>\n",
    "\n",
    "# Inner product\n",
    "inner = np.vdot(psi, phi)\n",
    "print(\"Inner product ⟨ψ|ϕ⟩ =\", inner)\n",
    "\n",
    "# Outer product\n",
    "outer = np.outer(psi, np.conjugate(phi))\n",
    "print(\"\\nOuter product |ψ⟩⟨ϕ|:\\n\", outer)\n"
   ]
  },
  {
   "cell_type": "markdown",
   "id": "fbc8682e",
   "metadata": {},
   "source": [
    "### **Tensor Products (Kronecker Product)**\n",
    "\n",
    "The tensor product allows us to combine multiple systems into one joint state. For qubits, this means forming multi-qubit states such as |00⟩ = |0⟩⊗|0⟩ or entangled states. Mathematically, it is represented by the Kronecker product of vectors or matrices. With n qubits, the dimension of the state space becomes 2ⁿ, explaining why quantum systems scale so rapidly.\n"
   ]
  },
  {
   "cell_type": "code",
   "execution_count": 2,
   "id": "1f9610b3",
   "metadata": {},
   "outputs": [
    {
     "name": "stdout",
     "output_type": "stream",
     "text": [
      "Tensor product |0>⊗|1> = [0 1 0 0]\n",
      "\n",
      "Superposition (|0>+|1>)⊗|0> = [0.70710678 0.         0.70710678 0.        ]\n",
      "\n",
      "Three qubit state |010> = [0 0 1 0 0 0 0 0]\n"
     ]
    }
   ],
   "source": [
    "# Basis states\n",
    "zero = np.array([1,0])\n",
    "one = np.array([0,1])\n",
    "\n",
    "# Tensor product of |0> and |1> → |01>\n",
    "state_01 = np.kron(zero, one)\n",
    "print(\"Tensor product |0>⊗|1> =\", state_01)\n",
    "\n",
    "# Create a 2-qubit superposition (|0>+|1>)⊗|0>\n",
    "superposition = np.kron((zero+one)/np.sqrt(2), zero)\n",
    "print(\"\\nSuperposition (|0>+|1>)⊗|0> =\", superposition)\n",
    "\n",
    "# Multi-qubit tensor product\n",
    "three_qubits = np.kron(np.kron(zero, one), zero)  # |010>\n",
    "print(\"\\nThree qubit state |010> =\", three_qubits)\n"
   ]
  },
  {
   "cell_type": "markdown",
   "id": "dffed0d0",
   "metadata": {},
   "source": [
    "### **Unitary Matrices**\n",
    "\n",
    "Quantum gates must be represented by **unitary matrices**, meaning `U†U = I`. This ensures that probabilities sum to 1 after transformation. Common examples are the Pauli matrices (X, Y, Z) and the Hadamard gate. We can test unitarity of a matrix in Python and apply it to a state vector.\n"
   ]
  },
  {
   "cell_type": "code",
   "execution_count": 3,
   "id": "6787c3fe",
   "metadata": {},
   "outputs": [
    {
     "name": "stdout",
     "output_type": "stream",
     "text": [
      "Is X unitary? True\n",
      "Is H unitary? True\n",
      "\n",
      "Applying Hadamard to |0>:  [0.70710678 0.70710678]\n",
      "Probabilities: [0.5 0.5]\n"
     ]
    }
   ],
   "source": [
    "# Define quantum gates\n",
    "X = np.array([[0,1],[1,0]])  # Pauli-X\n",
    "H = (1/np.sqrt(2)) * np.array([[1,1],[1,-1]])  # Hadamard\n",
    "\n",
    "# Check unitarity\n",
    "def is_unitary(U):\n",
    "    return np.allclose(U.conj().T @ U, np.eye(U.shape[0]))\n",
    "\n",
    "print(\"Is X unitary?\", is_unitary(X))\n",
    "print(\"Is H unitary?\", is_unitary(H))\n",
    "\n",
    "# Apply H to |0>\n",
    "result = H @ zero\n",
    "print(\"\\nApplying Hadamard to |0>: \", result)\n",
    "print(\"Probabilities:\", np.abs(result)**2)"
   ]
  },
  {
   "cell_type": "markdown",
   "id": "1c6d10ab",
   "metadata": {},
   "source": [
    "### **Tensor Products of Operators and Multi-Qubit Gates**\n",
    "\n",
    "Operators also combine via tensor products. For example, applying `X⊗I` means applying an X gate to the first qubit and identity to the second. This is how multi-qubit operations are constructed. Let’s simulate a 2-qubit system and apply different gates on different qubits.\n"
   ]
  },
  {
   "cell_type": "code",
   "execution_count": 4,
   "id": "ac3bd1a1",
   "metadata": {},
   "outputs": [
    {
     "name": "stdout",
     "output_type": "stream",
     "text": [
      "Applying X⊗I to |00> → [0. 0. 1. 0.]\n",
      "Applying H⊗X to |00> → [0.         0.70710678 0.         0.70710678]\n",
      "Probabilities: [0.  0.5 0.  0.5]\n"
     ]
    }
   ],
   "source": [
    "I = np.eye(2)\n",
    "\n",
    "# Operator: X on first qubit, I on second\n",
    "X_tensor_I = np.kron(X, I)\n",
    "\n",
    "# Apply to |00>\n",
    "state_00 = np.kron(zero, zero)\n",
    "new_state = X_tensor_I @ state_00\n",
    "print(\"Applying X⊗I to |00> →\", new_state)\n",
    "\n",
    "# Operator: H on first qubit, X on second\n",
    "HX = np.kron(H, X)\n",
    "new_state = HX @ state_00\n",
    "print(\"Applying H⊗X to |00> →\", new_state)\n",
    "print(\"Probabilities:\", np.abs(new_state)**2)\n"
   ]
  },
  {
   "cell_type": "markdown",
   "id": "dd984cda",
   "metadata": {},
   "source": [
    "### **Key Takeaways**\n",
    "\n",
    "Inner and outer products describe overlap and projectors, tensor products combine systems into larger ones, and unitary matrices guarantee valid quantum evolution. Together, these operations form the mathematical machinery of quantum mechanics and computing. Inner products link directly to measurement probabilities, outer products define operators, tensor products explain exponential scaling, and unitaries ensure reversibility. These tools bridge the gap between abstract math and the physical operations we realize on quantum hardware."
   ]
  },
  {
   "cell_type": "code",
   "execution_count": null,
   "id": "e4d935ae",
   "metadata": {},
   "outputs": [],
   "source": []
  }
 ],
 "metadata": {
  "kernelspec": {
   "display_name": "cwq",
   "language": "python",
   "name": "python3"
  },
  "language_info": {
   "codemirror_mode": {
    "name": "ipython",
    "version": 3
   },
   "file_extension": ".py",
   "mimetype": "text/x-python",
   "name": "python",
   "nbconvert_exporter": "python",
   "pygments_lexer": "ipython3",
   "version": "3.13.5"
  }
 },
 "nbformat": 4,
 "nbformat_minor": 5
}
