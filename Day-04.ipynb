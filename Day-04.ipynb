{
 "cells": [
  {
   "cell_type": "markdown",
   "id": "c1e18dc4",
   "metadata": {},
   "source": [
    "### **Introduction to Classical Computing and Boolean Algebra**\n",
    "\n",
    "Classical computing is built on the concept of bits, which can take values 0 or 1, and operations on these bits are defined by Boolean algebra. Boolean algebra, introduced by George Boole, uses logical operations like AND, OR, and NOT to manipulate truth values, and every classical circuit or digital computer is ultimately reducible to these operations. Logic gates are the physical realizations of Boolean operations, and combining them allows us to build more complex circuits such as adders, multiplexers, or memory elements. Understanding classical computing at this level is essential, since quantum computing builds on the same logical foundations but extends them using quantum states and unitary gates.\n"
   ]
  },
  {
   "cell_type": "code",
   "execution_count": 1,
   "id": "fc604492",
   "metadata": {},
   "outputs": [
    {
     "name": "stdout",
     "output_type": "stream",
     "text": [
      "Bits: [0, 1]\n",
      "NOT(0) = 1\n",
      "NOT(1) = 0\n",
      "AND(1,0) = 0\n",
      "XOR(1,0) = 1\n"
     ]
    }
   ],
   "source": [
    "# Basic representation of bits and truth values\n",
    "bits = [0, 1]\n",
    "print(\"Bits:\", bits)\n",
    "\n",
    "# Define Boolean functions in Python\n",
    "def NOT(x): return 1 - x\n",
    "def AND(x, y): return x & y\n",
    "def OR(x, y): return x | y\n",
    "def XOR(x, y): return x ^ y\n",
    "\n",
    "print(\"NOT(0) =\", NOT(0))\n",
    "print(\"NOT(1) =\", NOT(1))\n",
    "print(\"AND(1,0) =\", AND(1,0))\n",
    "print(\"XOR(1,0) =\", XOR(1,0))"
   ]
  },
  {
   "cell_type": "markdown",
   "id": "e705704d",
   "metadata": {},
   "source": [
    "### **Truth Tables**\n",
    "\n",
    "A truth table lists all possible inputs to a logical function and the corresponding output. This is the most direct way to understand how a gate behaves. For example, the AND gate outputs 1 only if both inputs are 1, while XOR outputs 1 if the inputs differ. Let’s generate truth tables programmatically.\n"
   ]
  },
  {
   "cell_type": "code",
   "execution_count": 2,
   "id": "40798b61",
   "metadata": {},
   "outputs": [
    {
     "name": "stdout",
     "output_type": "stream",
     "text": [
      "\n",
      "Truth Table for AND\n",
      "x y | output\n",
      "0 0 | 0\n",
      "0 1 | 0\n",
      "1 0 | 0\n",
      "1 1 | 1\n",
      "\n",
      "Truth Table for OR\n",
      "x y | output\n",
      "0 0 | 0\n",
      "0 1 | 1\n",
      "1 0 | 1\n",
      "1 1 | 1\n",
      "\n",
      "Truth Table for XOR\n",
      "x y | output\n",
      "0 0 | 0\n",
      "0 1 | 1\n",
      "1 0 | 1\n",
      "1 1 | 0\n"
     ]
    }
   ],
   "source": [
    "# Generate truth tables for basic gates\n",
    "def truth_table(gate_func, name):\n",
    "    print(f\"\\nTruth Table for {name}\")\n",
    "    print(\"x y | output\")\n",
    "    for x in bits:\n",
    "        for y in bits:\n",
    "            print(f\"{x} {y} | {gate_func(x,y)}\")\n",
    "\n",
    "truth_table(AND, \"AND\")\n",
    "truth_table(OR, \"OR\")\n",
    "truth_table(XOR, \"XOR\")\n"
   ]
  },
  {
   "cell_type": "markdown",
   "id": "d23aae78",
   "metadata": {},
   "source": [
    "### **Classical Circuits: Half Adder**\n",
    "\n",
    "One of the simplest classical circuits is the **half adder**, which adds two bits. It produces two outputs: the sum (using XOR) and the carry (using AND). This small circuit is the building block for binary addition in classical processors. We can simulate a half adder with Python functions and truth tables.\n"
   ]
  },
  {
   "cell_type": "code",
   "execution_count": 3,
   "id": "4f583c17",
   "metadata": {},
   "outputs": [
    {
     "name": "stdout",
     "output_type": "stream",
     "text": [
      "Half Adder Truth Table (x, y → sum, carry):\n",
      "0, 0 → (0, 0)\n",
      "0, 1 → (1, 0)\n",
      "1, 0 → (1, 0)\n",
      "1, 1 → (0, 1)\n"
     ]
    }
   ],
   "source": [
    "def half_adder(x, y):\n",
    "    sum_bit = XOR(x, y)\n",
    "    carry_bit = AND(x, y)\n",
    "    return sum_bit, carry_bit\n",
    "\n",
    "print(\"Half Adder Truth Table (x, y → sum, carry):\")\n",
    "for x in bits:\n",
    "    for y in bits:\n",
    "        print(f\"{x}, {y} → {half_adder(x,y)}\")\n"
   ]
  },
  {
   "cell_type": "markdown",
   "id": "8baac739",
   "metadata": {},
   "source": [
    "### **Advanced: Full Adder and Circuit Simulation**\n",
    "\n",
    "A **full adder** extends the half adder by including a carry-in bit, enabling chained addition of multiple bits. It can be built from two half adders plus an OR gate. We will also visualize results using NumPy arrays to demonstrate how classical circuits scale with multiple inputs. These ideas mirror how classical processors implement arithmetic logic units.\n"
   ]
  },
  {
   "cell_type": "code",
   "execution_count": 4,
   "id": "2ad2f6c4",
   "metadata": {},
   "outputs": [
    {
     "name": "stdout",
     "output_type": "stream",
     "text": [
      "Full Adder Truth Table (x, y, c_in → sum, c_out):\n",
      "0, 0, 0 → (0, 0)\n",
      "0, 0, 1 → (1, 0)\n",
      "0, 1, 0 → (1, 0)\n",
      "0, 1, 1 → (0, 1)\n",
      "1, 0, 0 → (1, 0)\n",
      "1, 0, 1 → (0, 1)\n",
      "1, 1, 0 → (0, 1)\n",
      "1, 1, 1 → (1, 1)\n"
     ]
    }
   ],
   "source": [
    "def full_adder(x, y, c_in):\n",
    "    sum1, carry1 = half_adder(x, y)\n",
    "    sum2, carry2 = half_adder(sum1, c_in)\n",
    "    c_out = OR(carry1, carry2)\n",
    "    return sum2, c_out\n",
    "\n",
    "print(\"Full Adder Truth Table (x, y, c_in → sum, c_out):\")\n",
    "for x in bits:\n",
    "    for y in bits:\n",
    "        for c_in in bits:\n",
    "            print(f\"{x}, {y}, {c_in} → {full_adder(x,y,c_in)}\")\n"
   ]
  },
  {
   "cell_type": "markdown",
   "id": "b5cbba95",
   "metadata": {},
   "source": [
    "### **Visualizing Truth Tables**\n",
    "\n",
    "We can visualize truth tables as binary grids. This helps to see how logical functions act on inputs systematically. For larger circuits, these visualizations make it easier to debug and understand structure.\n"
   ]
  },
  {
   "cell_type": "code",
   "execution_count": 6,
   "id": "bdffaeb7",
   "metadata": {},
   "outputs": [
    {
     "data": {
      "image/png": "[encoded data removed]",
      "text/plain": [
       "<Figure size 400x300 with 1 Axes>"
      ]
     },
     "metadata": {},
     "output_type": "display_data"
    },
    {
     "data": {
      "image/png": "[encoded data removed]",
      "text/plain": [
       "<Figure size 400x300 with 1 Axes>"
      ]
     },
     "metadata": {},
     "output_type": "display_data"
    }
   ],
   "source": [
    "import itertools\n",
    "from matplotlib import pyplot as plt\n",
    "\n",
    "def visualize_gate(gate_func, name):\n",
    "    inputs = list(itertools.product(bits, repeat=2))\n",
    "    outputs = [gate_func(x,y) for x,y in inputs]\n",
    "    \n",
    "    plt.figure(figsize=(4,3))\n",
    "    plt.scatter([f\"{x}{y}\" for x,y in inputs], outputs, s=200, c=outputs, cmap=\"coolwarm\")\n",
    "    plt.title(f\"{name} Gate Truth Table\")\n",
    "    plt.xlabel(\"Inputs\")\n",
    "    plt.ylabel(\"Output\")\n",
    "    plt.show()\n",
    "\n",
    "visualize_gate(AND, \"AND\")\n",
    "visualize_gate(XOR, \"XOR\")\n"
   ]
  },
  {
   "cell_type": "markdown",
   "id": "9b3c113a",
   "metadata": {},
   "source": [
    "### **Key Takeaways**\n",
    "\n",
    "Classical computing relies on bits and Boolean algebra, where logical gates like AND, OR, and NOT form the foundation of every digital circuit. By combining gates, we can build more complex circuits such as adders, which are essential for arithmetic operations in computers. Understanding these classical ideas not only explains how modern computers work at the hardware level but also provides a foundation for quantum computing, where the classical gates are replaced by quantum gates that operate on qubits in superposition.\n"
   ]
  },
  {
   "cell_type": "code",
   "execution_count": null,
   "id": "d0f16fa5",
   "metadata": {},
   "outputs": [],
   "source": []
  }
 ],
 "metadata": {
  "kernelspec": {
   "display_name": "cwq",
   "language": "python",
   "name": "python3"
  },
  "language_info": {
   "codemirror_mode": {
    "name": "ipython",
    "version": 3
   },
   "file_extension": ".py",
   "mimetype": "text/x-python",
   "name": "python",
   "nbconvert_exporter": "python",
   "pygments_lexer": "ipython3",
   "version": "3.13.5"
  }
 },
 "nbformat": 4,
 "nbformat_minor": 5
}
