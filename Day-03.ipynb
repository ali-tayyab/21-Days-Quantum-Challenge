{
 "cells": [
  {
   "cell_type": "markdown",
   "id": "def8cb44",
   "metadata": {},
   "source": [
    "### **Physics, Classical vs. Quantum Mechanics (Superposition and Wave–Particle Duality)**\n",
    "Classical mechanics describes the world in terms of deterministic laws, where the state of a system is fully determined by its position and momentum, and probabilities arise only from ignorance. Quantum mechanics, however, is fundamentally probabilistic: the state of a system is described by a wavefunction or state vector that encodes amplitudes, and measurement outcomes follow probability rules derived from complex numbers. Two of the most striking differences are **superposition** (a system being in multiple states simultaneously until measured) and **wave–particle duality** (quantum objects behaving like both particles and waves depending on context). These principles defy classical intuition yet have been experimentally verified and are essential for quantum technologies.\n",
    "\n",
    "#### **Classical Probability vs. Quantum Superposition**\n",
    "\n",
    "In classical physics, a coin is either heads or tails; if we don’t know which, we assign probabilities to each outcome. In quantum physics, a qubit can exist in a **superposition** of both states at once, represented as `α|0⟩ + β|1⟩` where `α` and `β` are complex amplitudes with |α|² + |β|² = 1. Measurement collapses the state into either |0⟩ or |1⟩ with probabilities given by the squared magnitudes of the amplitudes. Let’s contrast a classical coin with a quantum coin.\n",
    "\n"
   ]
  },
  {
   "cell_type": "code",
   "execution_count": 1,
   "id": "693abe7e",
   "metadata": {},
   "outputs": [],
   "source": [
    "import numpy as np\n",
    "import matplotlib.pyplot as plt"
   ]
  },
  {
   "cell_type": "code",
   "execution_count": 2,
   "id": "e733beec",
   "metadata": {},
   "outputs": [
    {
     "name": "stdout",
     "output_type": "stream",
     "text": [
      "Classical coin toss outcomes: ['H' 'T' 'T' 'T' 'T' 'H' 'H' 'T' 'H' 'T']\n",
      "\n",
      "Quantum coin state: α|0> + β|1>\n",
      "α = 0.7071067811865475 , β = 0.7071067811865475\n",
      "Prob(|0>) = 0.4999999999999999 , Prob(|1>) = 0.4999999999999999\n",
      "Quantum coin measurement outcomes: [0 0 0 0 1 0 1 1 0 0]\n"
     ]
    }
   ],
   "source": [
    "# Classical coin: probabilities only\n",
    "p_heads = 0.5\n",
    "p_tails = 0.5\n",
    "outcomes = np.random.choice([\"H\", \"T\"], size=10)\n",
    "print(\"Classical coin toss outcomes:\", outcomes)\n",
    "\n",
    "# Quantum coin: state amplitudes\n",
    "alpha = 1/np.sqrt(2)  # amplitude for |0>\n",
    "beta = 1/np.sqrt(2)   # amplitude for |1>\n",
    "prob_0 = abs(alpha)**2\n",
    "prob_1 = abs(beta)**2\n",
    "\n",
    "print(\"\\nQuantum coin state: α|0> + β|1>\")\n",
    "print(\"α =\", alpha, \", β =\", beta)\n",
    "print(\"Prob(|0>) =\", prob_0, \", Prob(|1>) =\", prob_1)\n",
    "\n",
    "# Simulate measurement from quantum state\n",
    "measured = np.random.choice([0,1], size=10, p=[prob_0, prob_1])\n",
    "print(\"Quantum coin measurement outcomes:\", measured)\n"
   ]
  },
  {
   "cell_type": "markdown",
   "id": "47389f2f",
   "metadata": {},
   "source": [
    "### **Visualizing Superposition on the Bloch Sphere**\n",
    "\n",
    "The Bloch sphere is a geometrical representation of a qubit state. The basis states |0⟩ and |1⟩ are at the poles, while superpositions lie on the surface. The state (|0⟩ + |1⟩)/√2 corresponds to a point on the equator. While full 3D visualization requires specialized libraries, we can at least illustrate how amplitudes map to probabilities and relative phases, showing that quantum states encode more than classical probabilities.\n"
   ]
  },
  {
   "cell_type": "code",
   "execution_count": 3,
   "id": "3f136373",
   "metadata": {},
   "outputs": [
    {
     "name": "stdout",
     "output_type": "stream",
     "text": [
      "Classical |0>: P(|0>)=1.00, P(|1>)=0.00\n",
      "Classical |1>: P(|0>)=0.00, P(|1>)=1.00\n",
      "Equal superposition: P(|0>)=0.50, P(|1>)=0.50\n",
      "Phase-shifted superposition: P(|0>)=0.50, P(|1>)=0.50\n"
     ]
    }
   ],
   "source": [
    "# Example: Different quantum states\n",
    "states = {\n",
    "    \"Classical |0>\": [1, 0],\n",
    "    \"Classical |1>\": [0, 1],\n",
    "    \"Equal superposition\": [1/np.sqrt(2), 1/np.sqrt(2)],\n",
    "    \"Phase-shifted superposition\": [1/np.sqrt(2), 1j/np.sqrt(2)],\n",
    "}\n",
    "\n",
    "for name, (a, b) in states.items():\n",
    "    probs = [abs(a)**2, abs(b)**2]\n",
    "    print(f\"{name}: P(|0>)={probs[0]:.2f}, P(|1>)={probs[1]:.2f}\")\n"
   ]
  },
  {
   "cell_type": "markdown",
   "id": "44354b6b",
   "metadata": {},
   "source": [
    "### **Wave–Particle Duality and Double-Slit Experiment**\n",
    "\n",
    "Wave–particle duality reveals that quantum objects like electrons or photons exhibit interference patterns (like waves) when not observed, but behave like localized particles when measured. The famous **double-slit experiment** shows this: particles fired one by one still form an interference pattern over time, unless we try to measure which slit they passed through. We can simulate interference using wavefunctions represented as complex amplitudes and visualize the resulting probability distribution. Please visit for my [another repo](https://github.com/ali-tayyab/Recreating-the-Famous-Quantum-Experiments-with-Qiskit) to perform this experiment with Qiskit!\n"
   ]
  },
  {
   "cell_type": "code",
   "execution_count": null,
   "id": "2f2d054e",
   "metadata": {},
   "outputs": [],
   "source": []
  }
 ],
 "metadata": {
  "kernelspec": {
   "display_name": "cwq",
   "language": "python",
   "name": "python3"
  },
  "language_info": {
   "codemirror_mode": {
    "name": "ipython",
    "version": 3
   },
   "file_extension": ".py",
   "mimetype": "text/x-python",
   "name": "python",
   "nbconvert_exporter": "python",
   "pygments_lexer": "ipython3",
   "version": "3.13.5"
  }
 },
 "nbformat": 4,
 "nbformat_minor": 5
}
